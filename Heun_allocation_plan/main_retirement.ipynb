{
 "cells": [
  {
   "cell_type": "code",
   "execution_count": null,
   "metadata": {},
   "outputs": [
    {
     "name": "stdout",
     "output_type": "stream",
     "text": [
      "\n",
      "### 노후자금 준비 포트폴리오 ###\n",
      "['REET: 5.00%', 'USO: 5.00%', 'MTUM: 5.00%', 'SPLV: 5.00%', 'SRVR: 5.00%', 'XHB: 5.00%', 'SLV: 5.00%', 'JPST: 65.00%']\n"
     ]
    }
   ],
   "source": [
    "#노후자금준비 (TDF-> GBI)\n",
    "import pandas as pd\n",
    "from block_definitions import classify_assets_by_blocks\n",
    "from tdf import target_date_allocation\n",
    "from gbi import gbi_allocation\n",
    "\n",
    "data_path = '/Users/heunjjang/Desktop/sample.csv'\n",
    "data = pd.read_csv(data_path)\n",
    "\n",
    "l1_assets, l2_indices, l3_markets, l4_etfs = classify_assets_by_blocks()\n",
    "\n",
    "# 사용자 입력\n",
    "goal_period = int(input(\"목표 투자 기간 (예상 은퇴 시점 기준, 년 단위): \"))\n",
    "risk_aversion = float(input(\"위험선호도 (1-5): \"))\n",
    "\n",
    "final_allocations = {}\n",
    "upper_weights = {\"L1\": 1.0} \n",
    "\n",
    "# L1 : TDF\n",
    "final_allocations[\"L1\"] = target_date_allocation(l1_assets, goal_period)\n",
    "# L2 ~ L4 :GBI \n",
    "for level, assets, prev_level in [\n",
    "    (\"L2\", l2_indices, \"L1\"),\n",
    "    (\"L3\", l3_markets, \"L2\"),\n",
    "    (\"L4\", l4_etfs, \"L3\")\n",
    "]:\n",
    "    upper_weight = sum(final_allocations[prev_level].values())\n",
    "\n",
    "    goals = [\n",
    "        {\n",
    "            \"name\": level,\n",
    "            \"assets\": assets,\n",
    "            \"amount\": upper_weight,\n",
    "            \"period\": goal_period\n",
    "        }\n",
    "    ]\n",
    "    allocations = gbi_allocation(goals, data, risk_aversion)\n",
    "    final_allocations[level] = allocations[level]\n",
    "\n",
    "print(\"\\n### 노후자금 준비 포트폴리오 ###\")\n",
    "l4_allocation_list = [f\"{asset}: {weight * 100:.2f}%\" for asset, weight in final_allocations[\"L4\"].items()]\n",
    "print(l4_allocation_list)\n"
   ]
  }
 ],
 "metadata": {
  "kernelspec": {
   "display_name": "base",
   "language": "python",
   "name": "python3"
  },
  "language_info": {
   "codemirror_mode": {
    "name": "ipython",
    "version": 3
   },
   "file_extension": ".py",
   "mimetype": "text/x-python",
   "name": "python",
   "nbconvert_exporter": "python",
   "pygments_lexer": "ipython3",
   "version": "3.11.0"
  }
 },
 "nbformat": 4,
 "nbformat_minor": 2
}
