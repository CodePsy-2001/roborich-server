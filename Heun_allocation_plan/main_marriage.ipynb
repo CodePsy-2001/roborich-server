{
 "cells": [
  {
   "cell_type": "code",
   "execution_count": null,
   "metadata": {},
   "outputs": [
    {
     "name": "stdout",
     "output_type": "stream",
     "text": [
      "\n",
      "### 결혼자금 마련 포트폴리오 ###\n",
      "['REET: 5.00%', 'USO: 5.00%', 'MTUM: 10.47%', 'SPLV: 11.75%', 'SRVR: 5.00%', 'XHB: 15.67%', 'SLV: 22.47%', 'JPST: 24.65%']\n"
     ]
    }
   ],
   "source": [
    "#결혼자금준비 ( DRA -> MVO )\n",
    "import pandas as pd\n",
    "from block_definitions import classify_assets_by_blocks\n",
    "from mvo import mvo_optimizer\n",
    "from dra import dynamic_risk_allocation\n",
    "\n",
    "data_path = '/Users/heunjjang/Desktop/sample.csv'\n",
    "data = pd.read_csv(data_path)\n",
    "\n",
    "l1_assets, l2_indices, l3_markets, l4_etfs = classify_assets_by_blocks()\n",
    "\n",
    "# 사용자 입력\n",
    "goal_period = int(input(\"투자 기간 (년): \"))\n",
    "risk_preference = int(input(\"위험 선호도 (1: 매우 안전, 5: 매우 공격적): \"))\n",
    "risk_aversion = 6 - risk_preference \n",
    "\n",
    "final_allocations = {}\n",
    "upper_weights = {\"L1\": 1.0}\n",
    "\n",
    "# L1: DRA\n",
    "final_allocations[\"L1\"] = dynamic_risk_allocation(data[l1_assets], risk_aversion, goal_period)\n",
    "# L2 ~ L4: MVO\n",
    "for level, assets, prev_level in [\n",
    "    (\"L2\", l2_indices, \"L1\"),\n",
    "    (\"L3\", l3_markets, \"L2\"),\n",
    "    (\"L4\", l4_etfs, \"L3\")\n",
    "]:\n",
    "    upper_weight = sum(final_allocations[prev_level].values())\n",
    "    cov_matrix = data[assets].pct_change().dropna().cov().values\n",
    "    expected_returns = data[assets].pct_change().dropna().mean().values\n",
    "\n",
    "    weights = mvo_optimizer(\n",
    "        nodes=assets,\n",
    "        covariance_matrix=cov_matrix,\n",
    "        expected_returns=expected_returns,\n",
    "        weight_bounds=(0.05, 0.7), # 각 자산의 최소/최대 비중\n",
    "        risk_aversion=risk_aversion\n",
    "    )\n",
    "\n",
    "    final_allocations[level] = {asset: weight * upper_weight for asset, weight in zip(assets, weights)}\n",
    "\n",
    "print(\"\\n### 결혼자금 마련 포트폴리오 ###\")\n",
    "l4_allocation_list = [f\"{asset}: {weight * 100:.2f}%\" for asset, weight in final_allocations[\"L4\"].items()]\n",
    "print(l4_allocation_list)\n"
   ]
  },
  {
   "cell_type": "markdown",
   "metadata": {},
   "source": []
  }
 ],
 "metadata": {
  "kernelspec": {
   "display_name": "base",
   "language": "python",
   "name": "python3"
  },
  "language_info": {
   "codemirror_mode": {
    "name": "ipython",
    "version": 3
   },
   "file_extension": ".py",
   "mimetype": "text/x-python",
   "name": "python",
   "nbconvert_exporter": "python",
   "pygments_lexer": "ipython3",
   "version": "3.11.0"
  }
 },
 "nbformat": 4,
 "nbformat_minor": 2
}
