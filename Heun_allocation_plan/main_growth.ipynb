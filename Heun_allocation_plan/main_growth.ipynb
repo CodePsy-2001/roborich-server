{
 "cells": [
  {
   "cell_type": "code",
   "execution_count": null,
   "metadata": {},
   "outputs": [
    {
     "name": "stdout",
     "output_type": "stream",
     "text": [
      "\n",
      "### 장기수익창출 포트폴리오 ###\n",
      "['REET: 5.00%', 'USO: 5.00%', 'MTUM: 10.47%', 'SPLV: 11.75%', 'SRVR: 5.00%', 'XHB: 15.67%', 'SLV: 22.47%', 'JPST: 24.65%']\n"
     ]
    }
   ],
   "source": [
    "#장기수익창출(Risk parity -> MVO)\n",
    "import pandas as pd\n",
    "from risk_parity import risk_parity_allocation \n",
    "from block_definitions import classify_assets_by_blocks \n",
    "from mvo import mvo_optimizer \n",
    "\n",
    "# 데이터 로드\n",
    "data_path = '/Users/heunjjang/Desktop/sample.csv'\n",
    "data = pd.read_csv(data_path)\n",
    "\n",
    "l1_assets, l2_indices, l3_markets, l4_etfs = classify_assets_by_blocks()\n",
    "\n",
    "# 사용자 입력\n",
    "goal_period = int(input(\"투자기간 (년): \"))\n",
    "if goal_period < 10:\n",
    "    raise ValueError(\"장기수익창출 포트폴리오는 10년 이상의 투자기간이 필요합니다. 투자기간을 수정하세요.\")\n",
    "risk_preference = int(input(\"위험 선호도 (1: 매우 안전, 5: 매우 공격적): \"))\n",
    "risk_aversion = 6 - risk_preference  \n",
    "\n",
    "# 단계별 실행\n",
    "final_allocations = {}\n",
    "upper_weights = {\"L1\": 1.0}\n",
    "\n",
    "# L1 단계: Risk Parity\n",
    "final_allocations[\"L1\"] = risk_parity_allocation(data[l1_assets], risk_aversion)\n",
    "# L2 -> L4 MVO\n",
    "for level, assets, bounds, prev_level in [\n",
    "    (\"L2\", l2_indices, (0.05, 0.5), \"L1\"), \n",
    "    (\"L3\", l3_markets, (0.05, 0.5), \"L2\"),\n",
    "    (\"L4\", l4_etfs, (0.05, 0.4), \"L3\")\n",
    "]:\n",
    "    upper_weight = sum(final_allocations[prev_level].values())\n",
    "    cov_matrix = data[assets].pct_change().dropna().cov().values\n",
    "    expected_returns = data[assets].pct_change().dropna().mean().values\n",
    "\n",
    "    weights = mvo_optimizer(\n",
    "        nodes=assets,\n",
    "        covariance_matrix=cov_matrix,\n",
    "        expected_returns=expected_returns,\n",
    "        weight_bounds=[bounds] * len(assets),\n",
    "        risk_aversion=risk_aversion\n",
    "    )\n",
    "\n",
    "    # 하위 단계에 상위 비중 적용\n",
    "    final_allocations[level] = {asset: weight * upper_weight for asset, weight in zip(assets, weights)}\n",
    "\n",
    "l4_allocation_list = [f\"{asset}: {weight * 100:.2f}%\" for asset, weight in final_allocations[\"L4\"].items()]\n",
    "print(\"\\n### 장기수익창출 포트폴리오 ###\")\n",
    "print(l4_allocation_list)\n"
   ]
  }
 ],
 "metadata": {
  "kernelspec": {
   "display_name": "base",
   "language": "python",
   "name": "python3"
  },
  "language_info": {
   "codemirror_mode": {
    "name": "ipython",
    "version": 3
   },
   "file_extension": ".py",
   "mimetype": "text/x-python",
   "name": "python",
   "nbconvert_exporter": "python",
   "pygments_lexer": "ipython3",
   "version": "3.11.0"
  }
 },
 "nbformat": 4,
 "nbformat_minor": 2
}
